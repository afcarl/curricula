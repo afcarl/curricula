{
 "cells": [
  {
   "cell_type": "markdown",
   "metadata": {
    "_datascience": {}
   },
   "source": [
    "## Introduction to pandas\n",
    "\n",
    "[Pandas](http://pandas.pydata.org/) is a Python library for manipulating and analyzing data. In this tutorial, we'll demonstrate key pandas concepts on a real dataset. \n",
    "\n",
    "### Concepts\n",
    "\n",
    "* Reading data\n",
    "* DataFrames\n",
    "* Exploring data\n",
    "* Indexing\n",
    "* Selection\n",
    "* Modifying data\n",
    "* DataFrame functions\n",
    "* Grouping\n",
    "* Joining/Merging\n",
    "\n",
    "We'll be using the Hubway dataset, provided by Boston's bikesharing system."
   ]
  },
  {
   "cell_type": "code",
   "execution_count": 57,
   "metadata": {
    "_datascience": {},
    "collapsed": true
   },
   "outputs": [],
   "source": [
    "import pandas as pd\n",
    "import numpy as np\n",
    "%matplotlib inline\n",
    "\n",
    "import psycopg2"
   ]
  },
  {
   "cell_type": "code",
   "execution_count": 58,
   "metadata": {
    "_datascience": {},
    "collapsed": false
   },
   "outputs": [],
   "source": [
    "# Database connecting params\n",
    "url = 'toy-db.cex3rfvdw0wv.us-west-2.redshift.amazonaws.com'\n",
    "database = 'bikeshare'\n",
    "username = 'read_only'\n",
    "password = 'U8qz3wmD&Eej*gEB'\n",
    "\n",
    "conn = psycopg2.connect(\n",
    "    database=database,\n",
    "    port=5439,\n",
    "    password=password,\n",
    "    user=username,\n",
    "    host=url\n",
    ")"
   ]
  },
  {
   "cell_type": "markdown",
   "metadata": {
    "_datascience": {},
    "collapsed": true
   },
   "source": [
    "### Reading data\n",
    "\n",
    "Pandas offers a number of [tools](http://pandas.pydata.org/pandas-docs/stable/io.html) for reading and writing data. When working with data from text files, you'll often use the `read_csv` function. Here we'll demonstrate usage of the similar `read_sql` method to get data out of a Redshift database and into a DataFrame.\n",
    "\n",
    "First, we write our SQL query and store it in a string variable. Here we're selecting 10,000 trips randomly from the trips table."
   ]
  },
  {
   "cell_type": "code",
   "execution_count": 59,
   "metadata": {
    "_datascience": {},
    "collapsed": true
   },
   "outputs": [],
   "source": [
    "# Set query\n",
    "query = \"\"\"\n",
    "select * from trips\n",
    "order by random()\n",
    "limit 10000\n",
    "\"\"\""
   ]
  },
  {
   "cell_type": "markdown",
   "metadata": {
    "_datascience": {}
   },
   "source": [
    "Now we'll retrieve the data from the database, storing the results in a DataFrame variable named `trips`. We pass the `query` and `conn` variables we defined above as parameters to the `read_sql` function."
   ]
  },
  {
   "cell_type": "code",
   "execution_count": 60,
   "metadata": {
    "_datascience": {},
    "collapsed": false
   },
   "outputs": [],
   "source": [
    "trips = pd.read_sql(query, conn)"
   ]
  },
  {
   "cell_type": "markdown",
   "metadata": {
    "_datascience": {}
   },
   "source": [
    "Now let's do the same for stations."
   ]
  },
  {
   "cell_type": "code",
   "execution_count": 61,
   "metadata": {
    "_datascience": {},
    "collapsed": false
   },
   "outputs": [],
   "source": [
    "query = \"\"\"\n",
    "select * from stations\n",
    "\"\"\"\n",
    "stations = pd.read_sql(query, conn)"
   ]
  },
  {
   "cell_type": "markdown",
   "metadata": {
    "_datascience": {}
   },
   "source": [
    "### DataFrames\n",
    "\n",
    "Pandas provides two [data structures](http://pandas.pydata.org/pandas-docs/dev/dsintro.html) that you'll use for manipulating and analyzing data: the [Series](http://pandas.pydata.org/pandas-docs/dev/generated/pandas.Series.html) and the [DataFrame](http://pandas.pydata.org/pandas-docs/dev/generated/pandas.DataFrame.html). You can think of a Series as a single column of data and a DataFrame as a table of data with one or more columns. Both structures have name properties (column labels) and indexes (row labels). \n",
    "\n",
    "Let's take a look at the DataFrame we created above. To see the first 5 rows, we call the DataFrame's `head` method."
   ]
  },
  {
   "cell_type": "code",
   "execution_count": 62,
   "metadata": {
    "_datascience": {},
    "collapsed": false
   },
   "outputs": [
    {
     "data": {
      "text/html": [
       "<div style=\"max-height:1000px;max-width:1500px;overflow:auto;\">\n",
       "<table border=\"1\" class=\"dataframe\">\n",
       "  <thead>\n",
       "    <tr style=\"text-align: right;\">\n",
       "      <th></th>\n",
       "      <th>seq_id</th>\n",
       "      <th>trip_id</th>\n",
       "      <th>status</th>\n",
       "      <th>duration</th>\n",
       "      <th>start_date</th>\n",
       "      <th>strt_statn</th>\n",
       "      <th>end_date</th>\n",
       "      <th>end_statn</th>\n",
       "      <th>bike_nr</th>\n",
       "      <th>subsc_type</th>\n",
       "      <th>zip_code</th>\n",
       "      <th>birth_date</th>\n",
       "      <th>gender</th>\n",
       "    </tr>\n",
       "  </thead>\n",
       "  <tbody>\n",
       "    <tr>\n",
       "      <th>0</th>\n",
       "      <td>357153</td>\n",
       "      <td>404493</td>\n",
       "      <td>Closed</td>\n",
       "      <td>1834</td>\n",
       "      <td>2012-07-21 16:38:00</td>\n",
       "      <td>60</td>\n",
       "      <td>2012-07-21 17:09:00</td>\n",
       "      <td>38</td>\n",
       "      <td>B00227</td>\n",
       "      <td>Casual</td>\n",
       "      <td></td>\n",
       "      <td>0</td>\n",
       "      <td></td>\n",
       "    </tr>\n",
       "    <tr>\n",
       "      <th>1</th>\n",
       "      <td>1441262</td>\n",
       "      <td>1602399</td>\n",
       "      <td>Closed</td>\n",
       "      <td>540</td>\n",
       "      <td>2013-10-17 08:27:00</td>\n",
       "      <td>39</td>\n",
       "      <td>2013-10-17 08:36:00</td>\n",
       "      <td>63</td>\n",
       "      <td>B00089</td>\n",
       "      <td>Casual</td>\n",
       "      <td></td>\n",
       "      <td>0</td>\n",
       "      <td></td>\n",
       "    </tr>\n",
       "    <tr>\n",
       "      <th>2</th>\n",
       "      <td>1527446</td>\n",
       "      <td>1693855</td>\n",
       "      <td>Closed</td>\n",
       "      <td>180</td>\n",
       "      <td>2013-11-06 18:20:00</td>\n",
       "      <td>74</td>\n",
       "      <td>2013-11-06 18:23:00</td>\n",
       "      <td>87</td>\n",
       "      <td>T01241</td>\n",
       "      <td>Registered</td>\n",
       "      <td>\\'02138</td>\n",
       "      <td>0</td>\n",
       "      <td>Male</td>\n",
       "    </tr>\n",
       "    <tr>\n",
       "      <th>3</th>\n",
       "      <td>889972</td>\n",
       "      <td>1007616</td>\n",
       "      <td>Closed</td>\n",
       "      <td>420</td>\n",
       "      <td>2013-06-17 08:55:00</td>\n",
       "      <td>68</td>\n",
       "      <td>2013-06-17 09:02:00</td>\n",
       "      <td>91</td>\n",
       "      <td>B00294</td>\n",
       "      <td>Registered</td>\n",
       "      <td>\\'02144</td>\n",
       "      <td>0</td>\n",
       "      <td>Female</td>\n",
       "    </tr>\n",
       "    <tr>\n",
       "      <th>4</th>\n",
       "      <td>1437267</td>\n",
       "      <td>1598193</td>\n",
       "      <td>Closed</td>\n",
       "      <td>120</td>\n",
       "      <td>2013-10-16 11:50:00</td>\n",
       "      <td>102</td>\n",
       "      <td>2013-10-16 11:52:00</td>\n",
       "      <td>102</td>\n",
       "      <td>B00659</td>\n",
       "      <td>Registered</td>\n",
       "      <td>\\'02130</td>\n",
       "      <td>0</td>\n",
       "      <td>Female</td>\n",
       "    </tr>\n",
       "  </tbody>\n",
       "</table>\n",
       "</div>"
      ],
      "text/plain": [
       "    seq_id  trip_id  status  duration          start_date  strt_statn  \\\n",
       "0   357153   404493  Closed      1834 2012-07-21 16:38:00          60   \n",
       "1  1441262  1602399  Closed       540 2013-10-17 08:27:00          39   \n",
       "2  1527446  1693855  Closed       180 2013-11-06 18:20:00          74   \n",
       "3   889972  1007616  Closed       420 2013-06-17 08:55:00          68   \n",
       "4  1437267  1598193  Closed       120 2013-10-16 11:50:00         102   \n",
       "\n",
       "             end_date  end_statn bike_nr  subsc_type zip_code  birth_date  \\\n",
       "0 2012-07-21 17:09:00         38  B00227      Casual                    0   \n",
       "1 2013-10-17 08:36:00         63  B00089      Casual                    0   \n",
       "2 2013-11-06 18:23:00         87  T01241  Registered  \\'02138           0   \n",
       "3 2013-06-17 09:02:00         91  B00294  Registered  \\'02144           0   \n",
       "4 2013-10-16 11:52:00        102  B00659  Registered  \\'02130           0   \n",
       "\n",
       "   gender  \n",
       "0          \n",
       "1          \n",
       "2    Male  \n",
       "3  Female  \n",
       "4  Female  "
      ]
     },
     "execution_count": 62,
     "metadata": {},
     "output_type": "execute_result"
    }
   ],
   "source": [
    "trips.head()"
   ]
  },
  {
   "cell_type": "markdown",
   "metadata": {
    "_datascience": {}
   },
   "source": [
    "We can see that the output looks similar to a data table or spreadsheet, with column labels on the top and numeric row labels running down the left.\n",
    "\n",
    "To see all the column names and their associated data types, call the DataFrame's `info` method."
   ]
  },
  {
   "cell_type": "code",
   "execution_count": 63,
   "metadata": {
    "_datascience": {},
    "collapsed": false
   },
   "outputs": [
    {
     "name": "stdout",
     "output_type": "stream",
     "text": [
      "<class 'pandas.core.frame.DataFrame'>\n",
      "Int64Index: 10000 entries, 0 to 9999\n",
      "Data columns (total 13 columns):\n",
      "seq_id        10000 non-null int64\n",
      "trip_id       10000 non-null int64\n",
      "status        10000 non-null object\n",
      "duration      10000 non-null float64\n",
      "start_date    10000 non-null datetime64[ns]\n",
      "strt_statn    10000 non-null int64\n",
      "end_date      10000 non-null datetime64[ns]\n",
      "end_statn     10000 non-null int64\n",
      "bike_nr       10000 non-null object\n",
      "subsc_type    10000 non-null object\n",
      "zip_code      10000 non-null object\n",
      "birth_date    10000 non-null int64\n",
      "gender        10000 non-null object\n",
      "dtypes: datetime64[ns](2), float64(1), int64(5), object(5)\n",
      "memory usage: 1.1+ MB\n"
     ]
    }
   ],
   "source": [
    "trips.info()"
   ]
  },
  {
   "cell_type": "markdown",
   "metadata": {
    "_datascience": {}
   },
   "source": [
    "The output shows us that we have 10,000 rows in the DataFrame. The `read_sql` function automatically converted `start_date` and `end_date` into datetime objects. The `duration` column is encoded as an integer (it's the length of a trip in seconds) while gender is encoded as an object (it's a string with possible values male, female and unknown).\n",
    "\n",
    "We can use the DataFrame's `describe` method to get summary statistics for all numeric columns."
   ]
  },
  {
   "cell_type": "code",
   "execution_count": 64,
   "metadata": {
    "_datascience": {},
    "collapsed": false
   },
   "outputs": [
    {
     "data": {
      "text/html": [
       "<div style=\"max-height:1000px;max-width:1500px;overflow:auto;\">\n",
       "<table border=\"1\" class=\"dataframe\">\n",
       "  <thead>\n",
       "    <tr style=\"text-align: right;\">\n",
       "      <th></th>\n",
       "      <th>seq_id</th>\n",
       "      <th>trip_id</th>\n",
       "      <th>duration</th>\n",
       "      <th>strt_statn</th>\n",
       "      <th>end_statn</th>\n",
       "      <th>birth_date</th>\n",
       "    </tr>\n",
       "  </thead>\n",
       "  <tbody>\n",
       "    <tr>\n",
       "      <th>count</th>\n",
       "      <td>10000.000000</td>\n",
       "      <td>10000.000000</td>\n",
       "      <td>10000.000000</td>\n",
       "      <td>10000.000000</td>\n",
       "      <td>10000.000000</td>\n",
       "      <td>10000.000000</td>\n",
       "    </tr>\n",
       "    <tr>\n",
       "      <th>mean</th>\n",
       "      <td>788471.790700</td>\n",
       "      <td>885336.605700</td>\n",
       "      <td>1122.454800</td>\n",
       "      <td>53.764300</td>\n",
       "      <td>54.021700</td>\n",
       "      <td>461.641300</td>\n",
       "    </tr>\n",
       "    <tr>\n",
       "      <th>std</th>\n",
       "      <td>455678.350746</td>\n",
       "      <td>506260.881373</td>\n",
       "      <td>4990.668023</td>\n",
       "      <td>33.543927</td>\n",
       "      <td>33.430911</td>\n",
       "      <td>836.231997</td>\n",
       "    </tr>\n",
       "    <tr>\n",
       "      <th>min</th>\n",
       "      <td>95.000000</td>\n",
       "      <td>121.000000</td>\n",
       "      <td>0.000000</td>\n",
       "      <td>3.000000</td>\n",
       "      <td>0.000000</td>\n",
       "      <td>0.000000</td>\n",
       "    </tr>\n",
       "    <tr>\n",
       "      <th>25%</th>\n",
       "      <td>392675.250000</td>\n",
       "      <td>444182.750000</td>\n",
       "      <td>404.000000</td>\n",
       "      <td>26.000000</td>\n",
       "      <td>27.000000</td>\n",
       "      <td>0.000000</td>\n",
       "    </tr>\n",
       "    <tr>\n",
       "      <th>50%</th>\n",
       "      <td>782420.000000</td>\n",
       "      <td>886882.000000</td>\n",
       "      <td>660.000000</td>\n",
       "      <td>48.000000</td>\n",
       "      <td>48.000000</td>\n",
       "      <td>0.000000</td>\n",
       "    </tr>\n",
       "    <tr>\n",
       "      <th>75%</th>\n",
       "      <td>1187856.250000</td>\n",
       "      <td>1331880.750000</td>\n",
       "      <td>1080.000000</td>\n",
       "      <td>74.000000</td>\n",
       "      <td>74.000000</td>\n",
       "      <td>0.000000</td>\n",
       "    </tr>\n",
       "    <tr>\n",
       "      <th>max</th>\n",
       "      <td>1578853.000000</td>\n",
       "      <td>1747849.000000</td>\n",
       "      <td>383272.000000</td>\n",
       "      <td>145.000000</td>\n",
       "      <td>145.000000</td>\n",
       "      <td>1995.000000</td>\n",
       "    </tr>\n",
       "  </tbody>\n",
       "</table>\n",
       "</div>"
      ],
      "text/plain": [
       "               seq_id         trip_id       duration    strt_statn  \\\n",
       "count    10000.000000    10000.000000   10000.000000  10000.000000   \n",
       "mean    788471.790700   885336.605700    1122.454800     53.764300   \n",
       "std     455678.350746   506260.881373    4990.668023     33.543927   \n",
       "min         95.000000      121.000000       0.000000      3.000000   \n",
       "25%     392675.250000   444182.750000     404.000000     26.000000   \n",
       "50%     782420.000000   886882.000000     660.000000     48.000000   \n",
       "75%    1187856.250000  1331880.750000    1080.000000     74.000000   \n",
       "max    1578853.000000  1747849.000000  383272.000000    145.000000   \n",
       "\n",
       "          end_statn    birth_date  \n",
       "count  10000.000000  10000.000000  \n",
       "mean      54.021700    461.641300  \n",
       "std       33.430911    836.231997  \n",
       "min        0.000000      0.000000  \n",
       "25%       27.000000      0.000000  \n",
       "50%       48.000000      0.000000  \n",
       "75%       74.000000      0.000000  \n",
       "max      145.000000   1995.000000  "
      ]
     },
     "execution_count": 64,
     "metadata": {},
     "output_type": "execute_result"
    }
   ],
   "source": [
    "trips.describe()"
   ]
  },
  {
   "cell_type": "markdown",
   "metadata": {
    "_datascience": {}
   },
   "source": [
    "The three id columns aren't meaningful in this context, but looking at the duration we can see that the median trip duration is 660 seconds and the average is 1,060 seconds. We also get min, max and the confidence interval.\n",
    "\n",
    "When loading in a new dataset, running `head`, `info` and `describe` is a quick way to get familiar with its structure and content."
   ]
  },
  {
   "cell_type": "markdown",
   "metadata": {
    "_datascience": {}
   },
   "source": [
    "### Indexing\n",
    "\n",
    "Every DataFrame and Series has an [index](http://pandas.pydata.org/pandas-docs/stable/generated/pandas.Index.html), similar to row labels in a spreadsheet. Indexes enable quick selection of rows and the ability to perform SQL-style joins on DataFrames. Index values are hashed which yield a constant-time lookup which becomes useful for selection in large DataFrames.\n",
    "\n",
    "To create an index on an existing DataFrame, use the `set_index` method passing in the desired column as a parameter. We'll turn our attention to the `stations` DataFrame. We have a `station_id` column which unqiuely identifies the station, and our `trips` DataFrame has multiple station id columns we can utlizize for joining the two DataFrames together.\n",
    "\n",
    "Here we set the index of `stations` to `station_id` and reassign the resulting DataFrame back into `stations`."
   ]
  },
  {
   "cell_type": "code",
   "execution_count": 65,
   "metadata": {
    "_datascience": {},
    "collapsed": false
   },
   "outputs": [],
   "source": [
    "stations = stations.set_index('statn_id')"
   ]
  },
  {
   "cell_type": "markdown",
   "metadata": {
    "_datascience": {}
   },
   "source": [
    "Now when we call the DataFrame's `info` method, we no longer see `station_id` listed as a column. "
   ]
  },
  {
   "cell_type": "code",
   "execution_count": 66,
   "metadata": {
    "_datascience": {},
    "collapsed": false
   },
   "outputs": [
    {
     "name": "stdout",
     "output_type": "stream",
     "text": [
      "<class 'pandas.core.frame.DataFrame'>\n",
      "Int64Index: 142 entries, 143 to 142\n",
      "Data columns (total 6 columns):\n",
      "terminal     142 non-null object\n",
      "station      142 non-null object\n",
      "municipal    142 non-null object\n",
      "lat          142 non-null float64\n",
      "lng          142 non-null float64\n",
      "status       142 non-null object\n",
      "dtypes: float64(2), object(4)\n",
      "memory usage: 7.8+ KB\n"
     ]
    }
   ],
   "source": [
    "stations.info()"
   ]
  },
  {
   "cell_type": "markdown",
   "metadata": {
    "_datascience": {}
   },
   "source": [
    "When we call the `head` method, we now see `station_id` on the far left side of the output with values bolded."
   ]
  },
  {
   "cell_type": "code",
   "execution_count": 67,
   "metadata": {
    "_datascience": {},
    "collapsed": false
   },
   "outputs": [
    {
     "data": {
      "text/html": [
       "<div style=\"max-height:1000px;max-width:1500px;overflow:auto;\">\n",
       "<table border=\"1\" class=\"dataframe\">\n",
       "  <thead>\n",
       "    <tr style=\"text-align: right;\">\n",
       "      <th></th>\n",
       "      <th>terminal</th>\n",
       "      <th>station</th>\n",
       "      <th>municipal</th>\n",
       "      <th>lat</th>\n",
       "      <th>lng</th>\n",
       "      <th>status</th>\n",
       "    </tr>\n",
       "    <tr>\n",
       "      <th>statn_id</th>\n",
       "      <th></th>\n",
       "      <th></th>\n",
       "      <th></th>\n",
       "      <th></th>\n",
       "      <th></th>\n",
       "      <th></th>\n",
       "    </tr>\n",
       "  </thead>\n",
       "  <tbody>\n",
       "    <tr>\n",
       "      <th>143</th>\n",
       "      <td>S32010</td>\n",
       "      <td>Somerville Hospital at Highland Ave / Crocker St</td>\n",
       "      <td>Somerville</td>\n",
       "      <td>42</td>\n",
       "      <td>-71</td>\n",
       "      <td>Existing</td>\n",
       "    </tr>\n",
       "    <tr>\n",
       "      <th>145</th>\n",
       "      <td>S32012</td>\n",
       "      <td>Summer St at Cutter St</td>\n",
       "      <td>Somerville</td>\n",
       "      <td>42</td>\n",
       "      <td>-71</td>\n",
       "      <td>Existing</td>\n",
       "    </tr>\n",
       "    <tr>\n",
       "      <th>7</th>\n",
       "      <td>A32000</td>\n",
       "      <td>Fan Pier</td>\n",
       "      <td>Boston</td>\n",
       "      <td>42</td>\n",
       "      <td>-71</td>\n",
       "      <td>Existing</td>\n",
       "    </tr>\n",
       "    <tr>\n",
       "      <th>12</th>\n",
       "      <td>B32002</td>\n",
       "      <td>Ruggles Station / Columbus Ave.</td>\n",
       "      <td>Boston</td>\n",
       "      <td>42</td>\n",
       "      <td>-71</td>\n",
       "      <td>Existing</td>\n",
       "    </tr>\n",
       "    <tr>\n",
       "      <th>14</th>\n",
       "      <td>B32003</td>\n",
       "      <td>HMS / HSPH - Ave. Louis Pasteur at Longwood Ave.</td>\n",
       "      <td>Boston</td>\n",
       "      <td>42</td>\n",
       "      <td>-71</td>\n",
       "      <td>Existing</td>\n",
       "    </tr>\n",
       "  </tbody>\n",
       "</table>\n",
       "</div>"
      ],
      "text/plain": [
       "         terminal                                           station  \\\n",
       "statn_id                                                              \n",
       "143        S32010  Somerville Hospital at Highland Ave / Crocker St   \n",
       "145        S32012                            Summer St at Cutter St   \n",
       "7          A32000                                          Fan Pier   \n",
       "12         B32002                   Ruggles Station / Columbus Ave.   \n",
       "14         B32003  HMS / HSPH - Ave. Louis Pasteur at Longwood Ave.   \n",
       "\n",
       "           municipal  lat  lng    status  \n",
       "statn_id                                  \n",
       "143       Somerville   42  -71  Existing  \n",
       "145       Somerville   42  -71  Existing  \n",
       "7             Boston   42  -71  Existing  \n",
       "12            Boston   42  -71  Existing  \n",
       "14            Boston   42  -71  Existing  "
      ]
     },
     "execution_count": 67,
     "metadata": {},
     "output_type": "execute_result"
    }
   ],
   "source": [
    "stations.head()"
   ]
  },
  {
   "cell_type": "markdown",
   "metadata": {
    "_datascience": {}
   },
   "source": [
    "### Selection\n",
    "\n",
    "Pandas offers a lot of flexibility for selecting subsets of data from DataFrames. For example, we have at least three ways of selecting a column. \n",
    "\n",
    "We can use a dictionary-style notation where we pass in the column name as a string. Here we'll select the head of the station column. "
   ]
  },
  {
   "cell_type": "code",
   "execution_count": 68,
   "metadata": {
    "_datascience": {},
    "collapsed": false
   },
   "outputs": [
    {
     "data": {
      "text/plain": [
       "statn_id\n",
       "143    Somerville Hospital at Highland Ave / Crocker St\n",
       "145                              Summer St at Cutter St\n",
       "7                                              Fan Pier\n",
       "12                      Ruggles Station / Columbus Ave.\n",
       "14     HMS / HSPH - Ave. Louis Pasteur at Longwood Ave.\n",
       "Name: station, dtype: object"
      ]
     },
     "execution_count": 68,
     "metadata": {},
     "output_type": "execute_result"
    }
   ],
   "source": [
    "stations['station'].head()"
   ]
  },
  {
   "cell_type": "markdown",
   "metadata": {
    "_datascience": {}
   },
   "source": [
    "We can also use an object property-style notation where we append the name of the column to the DataFrame variable separated by a period character."
   ]
  },
  {
   "cell_type": "code",
   "execution_count": 69,
   "metadata": {
    "_datascience": {},
    "collapsed": false
   },
   "outputs": [
    {
     "data": {
      "text/plain": [
       "statn_id\n",
       "143    Somerville Hospital at Highland Ave / Crocker St\n",
       "145                              Summer St at Cutter St\n",
       "7                                              Fan Pier\n",
       "12                      Ruggles Station / Columbus Ave.\n",
       "14     HMS / HSPH - Ave. Louis Pasteur at Longwood Ave.\n",
       "Name: station, dtype: object"
      ]
     },
     "execution_count": 69,
     "metadata": {},
     "output_type": "execute_result"
    }
   ],
   "source": [
    "stations.station.head()"
   ]
  },
  {
   "cell_type": "markdown",
   "metadata": {
    "_datascience": {}
   },
   "source": [
    "Finally, we can also select based on the numeric position of the column. From calling `head` above, we know that `station` is the second column in the DataFrame. We can access it using the `iloc` property, which allows us to select ranges of rows and columns using integers, with a similar syntax to selecting elements from Python lists.\n",
    "\n",
    "Let's select the station column and all its corresponding rows."
   ]
  },
  {
   "cell_type": "code",
   "execution_count": 70,
   "metadata": {
    "_datascience": {},
    "collapsed": false
   },
   "outputs": [
    {
     "data": {
      "text/plain": [
       "statn_id\n",
       "143     Somerville Hospital at Highland Ave / Crocker St\n",
       "145                               Summer St at Cutter St\n",
       "7                                               Fan Pier\n",
       "12                       Ruggles Station / Columbus Ave.\n",
       "14      HMS / HSPH - Ave. Louis Pasteur at Longwood Ave.\n",
       "19                                          Buswell Park\n",
       "25                              Tremont St / W Newton St\n",
       "31                                         Seaport Hotel\n",
       "33                                 Kenmore Sq / Comm Ave\n",
       "38                               TD Garden - Legends Way\n",
       "40                           Lewis Wharf - Atlantic Ave.\n",
       "45                            Yawkey Way at Boylston St.\n",
       "50                             Boylston St / Berkeley St\n",
       "52                              Newbury St / Hereford St\n",
       "57                           Columbus Ave. at Mass. Ave.\n",
       "59       Chinatown Gate Plaza - Surface Rd. at Beach St.\n",
       "65                 Boston Convention & Exhibition Center\n",
       "69               Coolidge Corner - Beacon St @ Centre St\n",
       "71                       Conway Park - Somerville Avenue\n",
       "76     Central Sq Post Office / Cambridge City Hall a...\n",
       "81                           Boylston St / Washington St\n",
       "86             Brookline Village - Station Street @ MBTA\n",
       "88         Inman Square at Vellucci Plaza / Hampshire St\n",
       "92                    University of Massachusetts Boston\n",
       "97     Harvard  University River Houses at DeWolfe St...\n",
       "103                                Boylston at Fairfield\n",
       "108                         E. Cottage St at Columbia Rd\n",
       "110                  New Balance - Guest St. at Life St.\n",
       "115    Spaulding Rehabilitation Hospital - Charlestow...\n",
       "120                  JP Monument - South St at Centre St\n",
       "                             ...                        \n",
       "27                              Roxbury Crossing Station\n",
       "34                          Overland St at Brookline Ave\n",
       "36              Boston Public Library - 700 Boylston St.\n",
       "42                         Boylston St. at Arlington St.\n",
       "47                              Cross St. at Hanover St.\n",
       "49                             Stuart St. at Charles St.\n",
       "55                                   Boylston / Mass Ave\n",
       "60         Charles Circle - Charles St. at Cambridge St.\n",
       "62                                 Longwood Ave/Riverway\n",
       "67                          MIT at Mass Ave / Amherst St\n",
       "72         One Broadway / Kendall Sq at Main St / 3rd St\n",
       "74                   Harvard Square at Mass Ave/ Dunster\n",
       "78                             Union Square - Somerville\n",
       "83                                       South Bay Plaza\n",
       "85        Andrew Station - Dorchester Ave at Humboldt Pl\n",
       "90           Lechmere Station at Cambridge St / First St\n",
       "95           Cambridge St - at Columbia St / Webster Ave\n",
       "99            Mayor Thomas M. Menino - Government Center\n",
       "101                   BIDMC - Brookline at Burlington St\n",
       "105                 Mt Pleasant Ave / Dudley Town Common\n",
       "107             South Boston Library - 646 East Broadway\n",
       "112                              Franklin St. / Arch St.\n",
       "117                                  Milk St at India St\n",
       "119            New Balance Store - Boylston at Dartmouth\n",
       "124                                           Green St T\n",
       "129    Harvard University River Houses / Plympton St ...\n",
       "131      Lower Cambridgeport at Magazine St/Riverside Rd\n",
       "135            359 Broadway - Broadway at Fayette Street\n",
       "140                                          Ball Square\n",
       "142                       Packard Ave / Powderhouse Blvd\n",
       "Name: station, dtype: object"
      ]
     },
     "execution_count": 70,
     "metadata": {},
     "output_type": "execute_result"
    }
   ],
   "source": [
    "stations.iloc[:,1]"
   ]
  },
  {
   "cell_type": "markdown",
   "metadata": {
    "_datascience": {}
   },
   "source": [
    "We enclose in brackets the numeric indexes of the rows we wish to select followed by the columns separated by a comma. In this case, we specified all rows by using the colon unbounded by ab integer on either side, followed by a `1` after the comma to select the second column (DataFrames are 0-indexed like all Python data structures).\n",
    "\n",
    "Here's what we would do if we wanted the first 5 rows including all columns."
   ]
  },
  {
   "cell_type": "code",
   "execution_count": 71,
   "metadata": {
    "_datascience": {},
    "collapsed": false
   },
   "outputs": [
    {
     "data": {
      "text/html": [
       "<div style=\"max-height:1000px;max-width:1500px;overflow:auto;\">\n",
       "<table border=\"1\" class=\"dataframe\">\n",
       "  <thead>\n",
       "    <tr style=\"text-align: right;\">\n",
       "      <th></th>\n",
       "      <th>terminal</th>\n",
       "      <th>station</th>\n",
       "      <th>municipal</th>\n",
       "      <th>lat</th>\n",
       "      <th>lng</th>\n",
       "      <th>status</th>\n",
       "    </tr>\n",
       "    <tr>\n",
       "      <th>statn_id</th>\n",
       "      <th></th>\n",
       "      <th></th>\n",
       "      <th></th>\n",
       "      <th></th>\n",
       "      <th></th>\n",
       "      <th></th>\n",
       "    </tr>\n",
       "  </thead>\n",
       "  <tbody>\n",
       "    <tr>\n",
       "      <th>143</th>\n",
       "      <td>S32010</td>\n",
       "      <td>Somerville Hospital at Highland Ave / Crocker St</td>\n",
       "      <td>Somerville</td>\n",
       "      <td>42</td>\n",
       "      <td>-71</td>\n",
       "      <td>Existing</td>\n",
       "    </tr>\n",
       "    <tr>\n",
       "      <th>145</th>\n",
       "      <td>S32012</td>\n",
       "      <td>Summer St at Cutter St</td>\n",
       "      <td>Somerville</td>\n",
       "      <td>42</td>\n",
       "      <td>-71</td>\n",
       "      <td>Existing</td>\n",
       "    </tr>\n",
       "    <tr>\n",
       "      <th>7</th>\n",
       "      <td>A32000</td>\n",
       "      <td>Fan Pier</td>\n",
       "      <td>Boston</td>\n",
       "      <td>42</td>\n",
       "      <td>-71</td>\n",
       "      <td>Existing</td>\n",
       "    </tr>\n",
       "    <tr>\n",
       "      <th>12</th>\n",
       "      <td>B32002</td>\n",
       "      <td>Ruggles Station / Columbus Ave.</td>\n",
       "      <td>Boston</td>\n",
       "      <td>42</td>\n",
       "      <td>-71</td>\n",
       "      <td>Existing</td>\n",
       "    </tr>\n",
       "    <tr>\n",
       "      <th>14</th>\n",
       "      <td>B32003</td>\n",
       "      <td>HMS / HSPH - Ave. Louis Pasteur at Longwood Ave.</td>\n",
       "      <td>Boston</td>\n",
       "      <td>42</td>\n",
       "      <td>-71</td>\n",
       "      <td>Existing</td>\n",
       "    </tr>\n",
       "  </tbody>\n",
       "</table>\n",
       "</div>"
      ],
      "text/plain": [
       "         terminal                                           station  \\\n",
       "statn_id                                                              \n",
       "143        S32010  Somerville Hospital at Highland Ave / Crocker St   \n",
       "145        S32012                            Summer St at Cutter St   \n",
       "7          A32000                                          Fan Pier   \n",
       "12         B32002                   Ruggles Station / Columbus Ave.   \n",
       "14         B32003  HMS / HSPH - Ave. Louis Pasteur at Longwood Ave.   \n",
       "\n",
       "           municipal  lat  lng    status  \n",
       "statn_id                                  \n",
       "143       Somerville   42  -71  Existing  \n",
       "145       Somerville   42  -71  Existing  \n",
       "7             Boston   42  -71  Existing  \n",
       "12            Boston   42  -71  Existing  \n",
       "14            Boston   42  -71  Existing  "
      ]
     },
     "execution_count": 71,
     "metadata": {},
     "output_type": "execute_result"
    }
   ],
   "source": [
    "stations.iloc[:5]"
   ]
  },
  {
   "cell_type": "markdown",
   "metadata": {
    "_datascience": {}
   },
   "source": [
    "Now let's get the first 5 rows and the second and third columns. We'll pass in a list to `iloc` of the columns we want to select."
   ]
  },
  {
   "cell_type": "code",
   "execution_count": 72,
   "metadata": {
    "_datascience": {},
    "collapsed": false
   },
   "outputs": [
    {
     "data": {
      "text/html": [
       "<div style=\"max-height:1000px;max-width:1500px;overflow:auto;\">\n",
       "<table border=\"1\" class=\"dataframe\">\n",
       "  <thead>\n",
       "    <tr style=\"text-align: right;\">\n",
       "      <th></th>\n",
       "      <th>station</th>\n",
       "      <th>municipal</th>\n",
       "    </tr>\n",
       "    <tr>\n",
       "      <th>statn_id</th>\n",
       "      <th></th>\n",
       "      <th></th>\n",
       "    </tr>\n",
       "  </thead>\n",
       "  <tbody>\n",
       "    <tr>\n",
       "      <th>143</th>\n",
       "      <td>Somerville Hospital at Highland Ave / Crocker St</td>\n",
       "      <td>Somerville</td>\n",
       "    </tr>\n",
       "    <tr>\n",
       "      <th>145</th>\n",
       "      <td>Summer St at Cutter St</td>\n",
       "      <td>Somerville</td>\n",
       "    </tr>\n",
       "    <tr>\n",
       "      <th>7</th>\n",
       "      <td>Fan Pier</td>\n",
       "      <td>Boston</td>\n",
       "    </tr>\n",
       "    <tr>\n",
       "      <th>12</th>\n",
       "      <td>Ruggles Station / Columbus Ave.</td>\n",
       "      <td>Boston</td>\n",
       "    </tr>\n",
       "    <tr>\n",
       "      <th>14</th>\n",
       "      <td>HMS / HSPH - Ave. Louis Pasteur at Longwood Ave.</td>\n",
       "      <td>Boston</td>\n",
       "    </tr>\n",
       "  </tbody>\n",
       "</table>\n",
       "</div>"
      ],
      "text/plain": [
       "                                                   station   municipal\n",
       "statn_id                                                              \n",
       "143       Somerville Hospital at Highland Ave / Crocker St  Somerville\n",
       "145                                 Summer St at Cutter St  Somerville\n",
       "7                                                 Fan Pier      Boston\n",
       "12                         Ruggles Station / Columbus Ave.      Boston\n",
       "14        HMS / HSPH - Ave. Louis Pasteur at Longwood Ave.      Boston"
      ]
     },
     "execution_count": 72,
     "metadata": {},
     "output_type": "execute_result"
    }
   ],
   "source": [
    "cols = [1,2]\n",
    "stations.iloc[:5,cols]"
   ]
  },
  {
   "cell_type": "markdown",
   "metadata": {
    "_datascience": {}
   },
   "source": [
    "If we want to select from the DataFrame based on a value in the index (by row label essentially), we use the `loc` property. In `stations` our `station_id` is stored as a string so we supply a string to `loc`."
   ]
  },
  {
   "cell_type": "code",
   "execution_count": 73,
   "metadata": {
    "_datascience": {},
    "collapsed": false
   },
   "outputs": [
    {
     "data": {
      "text/plain": [
       "terminal                            C32006\n",
       "station      Washington St. at Rutland St.\n",
       "municipal                           Boston\n",
       "lat                                     42\n",
       "lng                                    -71\n",
       "status                            Existing\n",
       "Name: 39, dtype: object"
      ]
     },
     "execution_count": 73,
     "metadata": {},
     "output_type": "execute_result"
    }
   ],
   "source": [
    "stations.loc[39]"
   ]
  },
  {
   "cell_type": "markdown",
   "metadata": {
    "_datascience": {}
   },
   "source": [
    "#### Selection Via Boolean Indexing\n",
    "\n",
    "Those are the basics for selecting data by numeric position or label. Oftentimes we want to select data based on some criteria. In pandas boolean indexing is the primary method for performing this type of selection.\n",
    "\n",
    "What if we wanted to select all rows and columns for stations located in Brookline? Here's what that looks like."
   ]
  },
  {
   "cell_type": "code",
   "execution_count": 74,
   "metadata": {
    "_datascience": {},
    "collapsed": false
   },
   "outputs": [
    {
     "data": {
      "text/html": [
       "<div style=\"max-height:1000px;max-width:1500px;overflow:auto;\">\n",
       "<table border=\"1\" class=\"dataframe\">\n",
       "  <thead>\n",
       "    <tr style=\"text-align: right;\">\n",
       "      <th></th>\n",
       "      <th>terminal</th>\n",
       "      <th>station</th>\n",
       "      <th>municipal</th>\n",
       "      <th>lat</th>\n",
       "      <th>lng</th>\n",
       "      <th>status</th>\n",
       "    </tr>\n",
       "    <tr>\n",
       "      <th>statn_id</th>\n",
       "      <th></th>\n",
       "      <th></th>\n",
       "      <th></th>\n",
       "      <th></th>\n",
       "      <th></th>\n",
       "      <th></th>\n",
       "    </tr>\n",
       "  </thead>\n",
       "  <tbody>\n",
       "    <tr>\n",
       "      <th>69</th>\n",
       "      <td>K32001</td>\n",
       "      <td>Coolidge Corner - Beacon St @ Centre St</td>\n",
       "      <td>Brookline</td>\n",
       "      <td>42</td>\n",
       "      <td>-71</td>\n",
       "      <td>Existing</td>\n",
       "    </tr>\n",
       "    <tr>\n",
       "      <th>86</th>\n",
       "      <td>K32003</td>\n",
       "      <td>Brookline Village - Station Street @ MBTA</td>\n",
       "      <td>Brookline</td>\n",
       "      <td>42</td>\n",
       "      <td>-71</td>\n",
       "      <td>Existing</td>\n",
       "    </tr>\n",
       "    <tr>\n",
       "      <th>127</th>\n",
       "      <td>K32004</td>\n",
       "      <td>JFK Crossing at Harvard St. / Thorndike St.</td>\n",
       "      <td>Brookline</td>\n",
       "      <td>42</td>\n",
       "      <td>-71</td>\n",
       "      <td>Existing</td>\n",
       "    </tr>\n",
       "    <tr>\n",
       "      <th>82</th>\n",
       "      <td>K32002</td>\n",
       "      <td>Brookline Town Hall / Library Washington St</td>\n",
       "      <td>Brookline</td>\n",
       "      <td>42</td>\n",
       "      <td>-71</td>\n",
       "      <td>Removed</td>\n",
       "    </tr>\n",
       "    <tr>\n",
       "      <th>126</th>\n",
       "      <td>K32002</td>\n",
       "      <td>Washington Square at Washington St. / Beacon St.</td>\n",
       "      <td>Brookline</td>\n",
       "      <td>42</td>\n",
       "      <td>-71</td>\n",
       "      <td>Existing</td>\n",
       "    </tr>\n",
       "  </tbody>\n",
       "</table>\n",
       "</div>"
      ],
      "text/plain": [
       "         terminal                                           station  \\\n",
       "statn_id                                                              \n",
       "69         K32001           Coolidge Corner - Beacon St @ Centre St   \n",
       "86         K32003         Brookline Village - Station Street @ MBTA   \n",
       "127        K32004       JFK Crossing at Harvard St. / Thorndike St.   \n",
       "82         K32002       Brookline Town Hall / Library Washington St   \n",
       "126        K32002  Washington Square at Washington St. / Beacon St.   \n",
       "\n",
       "          municipal  lat  lng    status  \n",
       "statn_id                                 \n",
       "69        Brookline   42  -71  Existing  \n",
       "86        Brookline   42  -71  Existing  \n",
       "127       Brookline   42  -71  Existing  \n",
       "82        Brookline   42  -71   Removed  \n",
       "126       Brookline   42  -71  Existing  "
      ]
     },
     "execution_count": 74,
     "metadata": {},
     "output_type": "execute_result"
    }
   ],
   "source": [
    "stations[stations['municipal'] == 'Brookline']"
   ]
  },
  {
   "cell_type": "code",
   "execution_count": null,
   "metadata": {
    "_datascience": {},
    "collapsed": true
   },
   "outputs": [],
   "source": []
  },
  {
   "cell_type": "markdown",
   "metadata": {
    "_datascience": {}
   },
   "source": [
    "Let's break this into pieces so we can see what's happening under the hood. You'll see within the enclosing brackets, we have `stations['municipality'] == 'Brookline'`. This is what we get when execute that statement."
   ]
  },
  {
   "cell_type": "code",
   "execution_count": 75,
   "metadata": {
    "_datascience": {},
    "collapsed": false
   },
   "outputs": [
    {
     "data": {
      "text/plain": [
       "statn_id\n",
       "143    False\n",
       "145    False\n",
       "7      False\n",
       "12     False\n",
       "14     False\n",
       "19     False\n",
       "25     False\n",
       "31     False\n",
       "33     False\n",
       "38     False\n",
       "40     False\n",
       "45     False\n",
       "50     False\n",
       "52     False\n",
       "57     False\n",
       "59     False\n",
       "65     False\n",
       "69      True\n",
       "71     False\n",
       "76     False\n",
       "81     False\n",
       "86      True\n",
       "88     False\n",
       "92     False\n",
       "97     False\n",
       "103    False\n",
       "108    False\n",
       "110    False\n",
       "115    False\n",
       "120    False\n",
       "       ...  \n",
       "27     False\n",
       "34     False\n",
       "36     False\n",
       "42     False\n",
       "47     False\n",
       "49     False\n",
       "55     False\n",
       "60     False\n",
       "62     False\n",
       "67     False\n",
       "72     False\n",
       "74     False\n",
       "78     False\n",
       "83     False\n",
       "85     False\n",
       "90     False\n",
       "95     False\n",
       "99     False\n",
       "101    False\n",
       "105    False\n",
       "107    False\n",
       "112    False\n",
       "117    False\n",
       "119    False\n",
       "124    False\n",
       "129    False\n",
       "131    False\n",
       "135    False\n",
       "140    False\n",
       "142    False\n",
       "Name: municipal, dtype: bool"
      ]
     },
     "execution_count": 75,
     "metadata": {},
     "output_type": "execute_result"
    }
   ],
   "source": [
    "stations['municipal'] == 'Brookline'"
   ]
  },
  {
   "cell_type": "markdown",
   "metadata": {
    "_datascience": {}
   },
   "source": [
    "Notice that it's a `Series` of booleans sharing the same index as the `stations` DataFrame. The result of that code was a comparison of every value in the `municipality` column to the string `'Brookline'` with a boolean result.\n",
    "\n",
    "Just to make sure, let's check station 82 which is showing a value of `True` above."
   ]
  },
  {
   "cell_type": "code",
   "execution_count": 76,
   "metadata": {
    "_datascience": {},
    "collapsed": false
   },
   "outputs": [
    {
     "data": {
      "text/plain": [
       "terminal                                          K32002\n",
       "station      Brookline Town Hall / Library Washington St\n",
       "municipal                                      Brookline\n",
       "lat                                                   42\n",
       "lng                                                  -71\n",
       "status                                           Removed\n",
       "Name: 82, dtype: object"
      ]
     },
     "execution_count": 76,
     "metadata": {},
     "output_type": "execute_result"
    }
   ],
   "source": [
    "stations.loc[82]"
   ]
  },
  {
   "cell_type": "markdown",
   "metadata": {
    "_datascience": {}
   },
   "source": [
    "We see that this station is indeed located in Brookline.\n",
    "\n",
    "We can also separate the selection of stations in Brookline into two steps: one for the creation of the boolean series and one for the selections from `stations`. When you pass a DataFrame a boolean series, pandas broadcasts that series across all rows where the corresponding index has evaluated to `True`."
   ]
  },
  {
   "cell_type": "code",
   "execution_count": 77,
   "metadata": {
    "_datascience": {},
    "collapsed": false
   },
   "outputs": [
    {
     "data": {
      "text/html": [
       "<div style=\"max-height:1000px;max-width:1500px;overflow:auto;\">\n",
       "<table border=\"1\" class=\"dataframe\">\n",
       "  <thead>\n",
       "    <tr style=\"text-align: right;\">\n",
       "      <th></th>\n",
       "      <th>terminal</th>\n",
       "      <th>station</th>\n",
       "      <th>municipal</th>\n",
       "      <th>lat</th>\n",
       "      <th>lng</th>\n",
       "      <th>status</th>\n",
       "    </tr>\n",
       "    <tr>\n",
       "      <th>statn_id</th>\n",
       "      <th></th>\n",
       "      <th></th>\n",
       "      <th></th>\n",
       "      <th></th>\n",
       "      <th></th>\n",
       "      <th></th>\n",
       "    </tr>\n",
       "  </thead>\n",
       "  <tbody>\n",
       "    <tr>\n",
       "      <th>69</th>\n",
       "      <td>K32001</td>\n",
       "      <td>Coolidge Corner - Beacon St @ Centre St</td>\n",
       "      <td>Brookline</td>\n",
       "      <td>42</td>\n",
       "      <td>-71</td>\n",
       "      <td>Existing</td>\n",
       "    </tr>\n",
       "    <tr>\n",
       "      <th>86</th>\n",
       "      <td>K32003</td>\n",
       "      <td>Brookline Village - Station Street @ MBTA</td>\n",
       "      <td>Brookline</td>\n",
       "      <td>42</td>\n",
       "      <td>-71</td>\n",
       "      <td>Existing</td>\n",
       "    </tr>\n",
       "    <tr>\n",
       "      <th>127</th>\n",
       "      <td>K32004</td>\n",
       "      <td>JFK Crossing at Harvard St. / Thorndike St.</td>\n",
       "      <td>Brookline</td>\n",
       "      <td>42</td>\n",
       "      <td>-71</td>\n",
       "      <td>Existing</td>\n",
       "    </tr>\n",
       "    <tr>\n",
       "      <th>82</th>\n",
       "      <td>K32002</td>\n",
       "      <td>Brookline Town Hall / Library Washington St</td>\n",
       "      <td>Brookline</td>\n",
       "      <td>42</td>\n",
       "      <td>-71</td>\n",
       "      <td>Removed</td>\n",
       "    </tr>\n",
       "    <tr>\n",
       "      <th>126</th>\n",
       "      <td>K32002</td>\n",
       "      <td>Washington Square at Washington St. / Beacon St.</td>\n",
       "      <td>Brookline</td>\n",
       "      <td>42</td>\n",
       "      <td>-71</td>\n",
       "      <td>Existing</td>\n",
       "    </tr>\n",
       "  </tbody>\n",
       "</table>\n",
       "</div>"
      ],
      "text/plain": [
       "         terminal                                           station  \\\n",
       "statn_id                                                              \n",
       "69         K32001           Coolidge Corner - Beacon St @ Centre St   \n",
       "86         K32003         Brookline Village - Station Street @ MBTA   \n",
       "127        K32004       JFK Crossing at Harvard St. / Thorndike St.   \n",
       "82         K32002       Brookline Town Hall / Library Washington St   \n",
       "126        K32002  Washington Square at Washington St. / Beacon St.   \n",
       "\n",
       "          municipal  lat  lng    status  \n",
       "statn_id                                 \n",
       "69        Brookline   42  -71  Existing  \n",
       "86        Brookline   42  -71  Existing  \n",
       "127       Brookline   42  -71  Existing  \n",
       "82        Brookline   42  -71   Removed  \n",
       "126       Brookline   42  -71  Existing  "
      ]
     },
     "execution_count": 77,
     "metadata": {},
     "output_type": "execute_result"
    }
   ],
   "source": [
    "# Create boolean series\n",
    "brookline_select = stations.municipal == 'Brookline'\n",
    "# Return rows from stations\n",
    "stations[brookline_select]"
   ]
  },
  {
   "cell_type": "markdown",
   "metadata": {
    "_datascience": {}
   },
   "source": [
    "We can also negate a boolean series using the `~` operator."
   ]
  },
  {
   "cell_type": "code",
   "execution_count": 78,
   "metadata": {
    "_datascience": {},
    "collapsed": false
   },
   "outputs": [
    {
     "data": {
      "text/html": [
       "<div style=\"max-height:1000px;max-width:1500px;overflow:auto;\">\n",
       "<table border=\"1\" class=\"dataframe\">\n",
       "  <thead>\n",
       "    <tr style=\"text-align: right;\">\n",
       "      <th></th>\n",
       "      <th>terminal</th>\n",
       "      <th>station</th>\n",
       "      <th>municipal</th>\n",
       "      <th>lat</th>\n",
       "      <th>lng</th>\n",
       "      <th>status</th>\n",
       "    </tr>\n",
       "    <tr>\n",
       "      <th>statn_id</th>\n",
       "      <th></th>\n",
       "      <th></th>\n",
       "      <th></th>\n",
       "      <th></th>\n",
       "      <th></th>\n",
       "      <th></th>\n",
       "    </tr>\n",
       "  </thead>\n",
       "  <tbody>\n",
       "    <tr>\n",
       "      <th>143</th>\n",
       "      <td>S32010</td>\n",
       "      <td>Somerville Hospital at Highland Ave / Crocker St</td>\n",
       "      <td>Somerville</td>\n",
       "      <td>42</td>\n",
       "      <td>-71</td>\n",
       "      <td>Existing</td>\n",
       "    </tr>\n",
       "    <tr>\n",
       "      <th>145</th>\n",
       "      <td>S32012</td>\n",
       "      <td>Summer St at Cutter St</td>\n",
       "      <td>Somerville</td>\n",
       "      <td>42</td>\n",
       "      <td>-71</td>\n",
       "      <td>Existing</td>\n",
       "    </tr>\n",
       "    <tr>\n",
       "      <th>69</th>\n",
       "      <td>K32001</td>\n",
       "      <td>Coolidge Corner - Beacon St @ Centre St</td>\n",
       "      <td>Brookline</td>\n",
       "      <td>42</td>\n",
       "      <td>-71</td>\n",
       "      <td>Existing</td>\n",
       "    </tr>\n",
       "    <tr>\n",
       "      <th>71</th>\n",
       "      <td>S32004</td>\n",
       "      <td>Conway Park - Somerville Avenue</td>\n",
       "      <td>Somerville</td>\n",
       "      <td>42</td>\n",
       "      <td>-71</td>\n",
       "      <td>Existing</td>\n",
       "    </tr>\n",
       "    <tr>\n",
       "      <th>76</th>\n",
       "      <td>M32012</td>\n",
       "      <td>Central Sq Post Office / Cambridge City Hall a...</td>\n",
       "      <td>Cambridge</td>\n",
       "      <td>42</td>\n",
       "      <td>-71</td>\n",
       "      <td>Existing</td>\n",
       "    </tr>\n",
       "  </tbody>\n",
       "</table>\n",
       "</div>"
      ],
      "text/plain": [
       "         terminal                                            station  \\\n",
       "statn_id                                                               \n",
       "143        S32010   Somerville Hospital at Highland Ave / Crocker St   \n",
       "145        S32012                             Summer St at Cutter St   \n",
       "69         K32001            Coolidge Corner - Beacon St @ Centre St   \n",
       "71         S32004                    Conway Park - Somerville Avenue   \n",
       "76         M32012  Central Sq Post Office / Cambridge City Hall a...   \n",
       "\n",
       "           municipal  lat  lng    status  \n",
       "statn_id                                  \n",
       "143       Somerville   42  -71  Existing  \n",
       "145       Somerville   42  -71  Existing  \n",
       "69         Brookline   42  -71  Existing  \n",
       "71        Somerville   42  -71  Existing  \n",
       "76         Cambridge   42  -71  Existing  "
      ]
     },
     "execution_count": 78,
     "metadata": {},
     "output_type": "execute_result"
    }
   ],
   "source": [
    "# Boolean series for all stations in Boston\n",
    "boston_select = stations.municipal == 'Boston'\n",
    "# Use ~ to negate the boolean values\n",
    "stations[~boston_select].head()"
   ]
  },
  {
   "cell_type": "markdown",
   "metadata": {
    "_datascience": {}
   },
   "source": [
    "A scroll through the resulting DataFrame shows that we don't have any rows where the munipality equals Boston.\n",
    "\n",
    "We can also combine multiple boolean indexes using the `&` (logical and) and `|` (logical or) operators. Let's select stations in Somerville and Cambridge using the `or` operator, wrapping each boolean expression in parentheses."
   ]
  },
  {
   "cell_type": "code",
   "execution_count": 79,
   "metadata": {
    "_datascience": {},
    "collapsed": false
   },
   "outputs": [
    {
     "data": {
      "text/html": [
       "<div style=\"max-height:1000px;max-width:1500px;overflow:auto;\">\n",
       "<table border=\"1\" class=\"dataframe\">\n",
       "  <thead>\n",
       "    <tr style=\"text-align: right;\">\n",
       "      <th></th>\n",
       "      <th>terminal</th>\n",
       "      <th>station</th>\n",
       "      <th>municipal</th>\n",
       "      <th>lat</th>\n",
       "      <th>lng</th>\n",
       "      <th>status</th>\n",
       "    </tr>\n",
       "    <tr>\n",
       "      <th>statn_id</th>\n",
       "      <th></th>\n",
       "      <th></th>\n",
       "      <th></th>\n",
       "      <th></th>\n",
       "      <th></th>\n",
       "      <th></th>\n",
       "    </tr>\n",
       "  </thead>\n",
       "  <tbody>\n",
       "    <tr>\n",
       "      <th>143</th>\n",
       "      <td>S32010</td>\n",
       "      <td>Somerville Hospital at Highland Ave / Crocker St</td>\n",
       "      <td>Somerville</td>\n",
       "      <td>42</td>\n",
       "      <td>-71</td>\n",
       "      <td>Existing</td>\n",
       "    </tr>\n",
       "    <tr>\n",
       "      <th>145</th>\n",
       "      <td>S32012</td>\n",
       "      <td>Summer St at Cutter St</td>\n",
       "      <td>Somerville</td>\n",
       "      <td>42</td>\n",
       "      <td>-71</td>\n",
       "      <td>Existing</td>\n",
       "    </tr>\n",
       "    <tr>\n",
       "      <th>71</th>\n",
       "      <td>S32004</td>\n",
       "      <td>Conway Park - Somerville Avenue</td>\n",
       "      <td>Somerville</td>\n",
       "      <td>42</td>\n",
       "      <td>-71</td>\n",
       "      <td>Existing</td>\n",
       "    </tr>\n",
       "    <tr>\n",
       "      <th>76</th>\n",
       "      <td>M32012</td>\n",
       "      <td>Central Sq Post Office / Cambridge City Hall a...</td>\n",
       "      <td>Cambridge</td>\n",
       "      <td>42</td>\n",
       "      <td>-71</td>\n",
       "      <td>Existing</td>\n",
       "    </tr>\n",
       "    <tr>\n",
       "      <th>88</th>\n",
       "      <td>M32010</td>\n",
       "      <td>Inman Square at Vellucci Plaza / Hampshire St</td>\n",
       "      <td>Cambridge</td>\n",
       "      <td>42</td>\n",
       "      <td>-71</td>\n",
       "      <td>Existing</td>\n",
       "    </tr>\n",
       "  </tbody>\n",
       "</table>\n",
       "</div>"
      ],
      "text/plain": [
       "         terminal                                            station  \\\n",
       "statn_id                                                               \n",
       "143        S32010   Somerville Hospital at Highland Ave / Crocker St   \n",
       "145        S32012                             Summer St at Cutter St   \n",
       "71         S32004                    Conway Park - Somerville Avenue   \n",
       "76         M32012  Central Sq Post Office / Cambridge City Hall a...   \n",
       "88         M32010      Inman Square at Vellucci Plaza / Hampshire St   \n",
       "\n",
       "           municipal  lat  lng    status  \n",
       "statn_id                                  \n",
       "143       Somerville   42  -71  Existing  \n",
       "145       Somerville   42  -71  Existing  \n",
       "71        Somerville   42  -71  Existing  \n",
       "76         Cambridge   42  -71  Existing  \n",
       "88         Cambridge   42  -71  Existing  "
      ]
     },
     "execution_count": 79,
     "metadata": {},
     "output_type": "execute_result"
    }
   ],
   "source": [
    "stations[(stations.municipal == 'Somerville') | (stations.municipal == 'Cambridge')].head()"
   ]
  },
  {
   "cell_type": "markdown",
   "metadata": {
    "_datascience": {}
   },
   "source": [
    "We could perform that same selection using the `.isin` method. This method evaluates to a boolean series by checking for membership in the provided list."
   ]
  },
  {
   "cell_type": "code",
   "execution_count": 80,
   "metadata": {
    "_datascience": {},
    "collapsed": false
   },
   "outputs": [
    {
     "data": {
      "text/html": [
       "<div style=\"max-height:1000px;max-width:1500px;overflow:auto;\">\n",
       "<table border=\"1\" class=\"dataframe\">\n",
       "  <thead>\n",
       "    <tr style=\"text-align: right;\">\n",
       "      <th></th>\n",
       "      <th>terminal</th>\n",
       "      <th>station</th>\n",
       "      <th>municipal</th>\n",
       "      <th>lat</th>\n",
       "      <th>lng</th>\n",
       "      <th>status</th>\n",
       "    </tr>\n",
       "    <tr>\n",
       "      <th>statn_id</th>\n",
       "      <th></th>\n",
       "      <th></th>\n",
       "      <th></th>\n",
       "      <th></th>\n",
       "      <th></th>\n",
       "      <th></th>\n",
       "    </tr>\n",
       "  </thead>\n",
       "  <tbody>\n",
       "    <tr>\n",
       "      <th>143</th>\n",
       "      <td>S32010</td>\n",
       "      <td>Somerville Hospital at Highland Ave / Crocker St</td>\n",
       "      <td>Somerville</td>\n",
       "      <td>42</td>\n",
       "      <td>-71</td>\n",
       "      <td>Existing</td>\n",
       "    </tr>\n",
       "    <tr>\n",
       "      <th>145</th>\n",
       "      <td>S32012</td>\n",
       "      <td>Summer St at Cutter St</td>\n",
       "      <td>Somerville</td>\n",
       "      <td>42</td>\n",
       "      <td>-71</td>\n",
       "      <td>Existing</td>\n",
       "    </tr>\n",
       "    <tr>\n",
       "      <th>71</th>\n",
       "      <td>S32004</td>\n",
       "      <td>Conway Park - Somerville Avenue</td>\n",
       "      <td>Somerville</td>\n",
       "      <td>42</td>\n",
       "      <td>-71</td>\n",
       "      <td>Existing</td>\n",
       "    </tr>\n",
       "    <tr>\n",
       "      <th>76</th>\n",
       "      <td>M32012</td>\n",
       "      <td>Central Sq Post Office / Cambridge City Hall a...</td>\n",
       "      <td>Cambridge</td>\n",
       "      <td>42</td>\n",
       "      <td>-71</td>\n",
       "      <td>Existing</td>\n",
       "    </tr>\n",
       "    <tr>\n",
       "      <th>88</th>\n",
       "      <td>M32010</td>\n",
       "      <td>Inman Square at Vellucci Plaza / Hampshire St</td>\n",
       "      <td>Cambridge</td>\n",
       "      <td>42</td>\n",
       "      <td>-71</td>\n",
       "      <td>Existing</td>\n",
       "    </tr>\n",
       "  </tbody>\n",
       "</table>\n",
       "</div>"
      ],
      "text/plain": [
       "         terminal                                            station  \\\n",
       "statn_id                                                               \n",
       "143        S32010   Somerville Hospital at Highland Ave / Crocker St   \n",
       "145        S32012                             Summer St at Cutter St   \n",
       "71         S32004                    Conway Park - Somerville Avenue   \n",
       "76         M32012  Central Sq Post Office / Cambridge City Hall a...   \n",
       "88         M32010      Inman Square at Vellucci Plaza / Hampshire St   \n",
       "\n",
       "           municipal  lat  lng    status  \n",
       "statn_id                                  \n",
       "143       Somerville   42  -71  Existing  \n",
       "145       Somerville   42  -71  Existing  \n",
       "71        Somerville   42  -71  Existing  \n",
       "76         Cambridge   42  -71  Existing  \n",
       "88         Cambridge   42  -71  Existing  "
      ]
     },
     "execution_count": 80,
     "metadata": {},
     "output_type": "execute_result"
    }
   ],
   "source": [
    "# Create a list of municipalities we want to select\n",
    "muni_list = ['Cambridge', 'Somerville']\n",
    "# Pass list to isin method\n",
    "stations[stations.municipal.isin(muni_list)].head()"
   ]
  },
  {
   "cell_type": "markdown",
   "metadata": {
    "_datascience": {}
   },
   "source": [
    "### Modifying data\n",
    "\n",
    "We can use our selection tools to modify the contents of a DataFrame and add new values. \n",
    "\n",
    "The `terminal` column isn't really interesting for our analysis, we can remove it from the DataFrame using the `drop` method. We pass in the column we want to drop and the axis on which to look for that column (0 for row, 1 for column)."
   ]
  },
  {
   "cell_type": "code",
   "execution_count": 81,
   "metadata": {
    "_datascience": {},
    "collapsed": false
   },
   "outputs": [
    {
     "name": "stdout",
     "output_type": "stream",
     "text": [
      "<class 'pandas.core.frame.DataFrame'>\n",
      "Int64Index: 142 entries, 143 to 142\n",
      "Data columns (total 5 columns):\n",
      "station      142 non-null object\n",
      "municipal    142 non-null object\n",
      "lat          142 non-null float64\n",
      "lng          142 non-null float64\n",
      "status       142 non-null object\n",
      "dtypes: float64(2), object(3)\n",
      "memory usage: 6.7+ KB\n"
     ]
    }
   ],
   "source": [
    "# Drop the terminal column\n",
    "stations = stations.drop('terminal', axis=1)\n",
    "# Call info to see results\n",
    "stations.info()"
   ]
  },
  {
   "cell_type": "markdown",
   "metadata": {
    "_datascience": {}
   },
   "source": [
    "The output of info shows no terminal column.\n",
    "\n",
    "If we wanted to add a new column to the DataFrame based on existing data, we can store the results of a numeric operation under a new label. Here we add a new column called `duration_hours` which is the trip duration expressed in hours."
   ]
  },
  {
   "cell_type": "code",
   "execution_count": 82,
   "metadata": {
    "_datascience": {},
    "collapsed": false
   },
   "outputs": [
    {
     "data": {
      "text/html": [
       "<div style=\"max-height:1000px;max-width:1500px;overflow:auto;\">\n",
       "<table border=\"1\" class=\"dataframe\">\n",
       "  <thead>\n",
       "    <tr style=\"text-align: right;\">\n",
       "      <th></th>\n",
       "      <th>duration</th>\n",
       "      <th>duration_hours</th>\n",
       "    </tr>\n",
       "  </thead>\n",
       "  <tbody>\n",
       "    <tr>\n",
       "      <th>0</th>\n",
       "      <td>1834</td>\n",
       "      <td>0.509444</td>\n",
       "    </tr>\n",
       "    <tr>\n",
       "      <th>1</th>\n",
       "      <td>540</td>\n",
       "      <td>0.150000</td>\n",
       "    </tr>\n",
       "    <tr>\n",
       "      <th>2</th>\n",
       "      <td>180</td>\n",
       "      <td>0.050000</td>\n",
       "    </tr>\n",
       "    <tr>\n",
       "      <th>3</th>\n",
       "      <td>420</td>\n",
       "      <td>0.116667</td>\n",
       "    </tr>\n",
       "    <tr>\n",
       "      <th>4</th>\n",
       "      <td>120</td>\n",
       "      <td>0.033333</td>\n",
       "    </tr>\n",
       "  </tbody>\n",
       "</table>\n",
       "</div>"
      ],
      "text/plain": [
       "   duration  duration_hours\n",
       "0      1834        0.509444\n",
       "1       540        0.150000\n",
       "2       180        0.050000\n",
       "3       420        0.116667\n",
       "4       120        0.033333"
      ]
     },
     "execution_count": 82,
     "metadata": {},
     "output_type": "execute_result"
    }
   ],
   "source": [
    "# Similar to selection, input new column name in brackets with assignment\n",
    "trips['duration_hours'] = trips.duration / 3600\n",
    "# Take a look at the results\n",
    "trips[['duration','duration_hours']].head()"
   ]
  },
  {
   "cell_type": "markdown",
   "metadata": {
    "_datascience": {}
   },
   "source": [
    "Another way to add a new column based on existing data is using the `apply` method. Let's say we were interested in the day of week that a ride occurred on. We can apply a day of week function to the trip's start time and store the result in a new column. We use an anonymous function with a Python [lambda expression](https://docs.python.org/2/reference/expressions.html#lambda)."
   ]
  },
  {
   "cell_type": "code",
   "execution_count": 83,
   "metadata": {
    "_datascience": {},
    "collapsed": false
   },
   "outputs": [
    {
     "data": {
      "text/html": [
       "<div style=\"max-height:1000px;max-width:1500px;overflow:auto;\">\n",
       "<table border=\"1\" class=\"dataframe\">\n",
       "  <thead>\n",
       "    <tr style=\"text-align: right;\">\n",
       "      <th></th>\n",
       "      <th>start_date</th>\n",
       "      <th>start_day_of_week</th>\n",
       "    </tr>\n",
       "  </thead>\n",
       "  <tbody>\n",
       "    <tr>\n",
       "      <th>0</th>\n",
       "      <td>2012-07-21 16:38:00</td>\n",
       "      <td>5</td>\n",
       "    </tr>\n",
       "    <tr>\n",
       "      <th>1</th>\n",
       "      <td>2013-10-17 08:27:00</td>\n",
       "      <td>3</td>\n",
       "    </tr>\n",
       "    <tr>\n",
       "      <th>2</th>\n",
       "      <td>2013-11-06 18:20:00</td>\n",
       "      <td>2</td>\n",
       "    </tr>\n",
       "    <tr>\n",
       "      <th>3</th>\n",
       "      <td>2013-06-17 08:55:00</td>\n",
       "      <td>0</td>\n",
       "    </tr>\n",
       "    <tr>\n",
       "      <th>4</th>\n",
       "      <td>2013-10-16 11:50:00</td>\n",
       "      <td>2</td>\n",
       "    </tr>\n",
       "  </tbody>\n",
       "</table>\n",
       "</div>"
      ],
      "text/plain": [
       "           start_date  start_day_of_week\n",
       "0 2012-07-21 16:38:00                  5\n",
       "1 2013-10-17 08:27:00                  3\n",
       "2 2013-11-06 18:20:00                  2\n",
       "3 2013-06-17 08:55:00                  0\n",
       "4 2013-10-16 11:50:00                  2"
      ]
     },
     "execution_count": 83,
     "metadata": {},
     "output_type": "execute_result"
    }
   ],
   "source": [
    "# Apply the lambda function to the start_date column\n",
    "trips['start_day_of_week'] = trips.start_date.apply(lambda x: x.dayofweek)\n",
    "# Take a look at the results\n",
    "trips[['start_date','start_day_of_week']].head()"
   ]
  },
  {
   "cell_type": "markdown",
   "metadata": {
    "_datascience": {}
   },
   "source": [
    "We can add new rows to a DataFrame using the `append` method. Here we'll append a the last 5 rows of the `stations` DataFrame to a copy of itself."
   ]
  },
  {
   "cell_type": "code",
   "execution_count": 84,
   "metadata": {
    "_datascience": {},
    "collapsed": false
   },
   "outputs": [],
   "source": [
    "stations_copy = stations.copy()\n",
    "stations_copy = stations_copy.append(stations_copy.iloc[-5:])"
   ]
  },
  {
   "cell_type": "markdown",
   "metadata": {
    "_datascience": {}
   },
   "source": [
    "Now when we examine the lengths of the two DataFrames we see that the copy with append is five rows longer."
   ]
  },
  {
   "cell_type": "code",
   "execution_count": 85,
   "metadata": {
    "_datascience": {},
    "collapsed": false
   },
   "outputs": [
    {
     "name": "stdout",
     "output_type": "stream",
     "text": [
      "Length of stations df: 142\n",
      "Length of stations appended df: 147\n"
     ]
    }
   ],
   "source": [
    "print 'Length of stations df: {0}'.format(len(stations))\n",
    "print 'Length of stations appended df: {0}'.format(len(stations_copy))"
   ]
  },
  {
   "cell_type": "markdown",
   "metadata": {
    "_datascience": {}
   },
   "source": [
    "### DataFrame Functions\n",
    "\n",
    "DataFrames supply plenty of functionality for aggregating data and performing other numerical computation. Below we're calling the `count` method on the `trips` DataFrame. We see that it performs the count on all columns in the DataFrame regardless of type and returns a Series indexed by the column labels."
   ]
  },
  {
   "cell_type": "code",
   "execution_count": 86,
   "metadata": {
    "_datascience": {},
    "collapsed": false
   },
   "outputs": [
    {
     "data": {
      "text/plain": [
       "seq_id               10000\n",
       "trip_id              10000\n",
       "status               10000\n",
       "duration             10000\n",
       "start_date           10000\n",
       "strt_statn           10000\n",
       "end_date             10000\n",
       "end_statn            10000\n",
       "bike_nr              10000\n",
       "subsc_type           10000\n",
       "zip_code             10000\n",
       "birth_date           10000\n",
       "gender               10000\n",
       "duration_hours       10000\n",
       "start_day_of_week    10000\n",
       "dtype: int64"
      ]
     },
     "execution_count": 86,
     "metadata": {},
     "output_type": "execute_result"
    }
   ],
   "source": [
    "trips.count()"
   ]
  },
  {
   "cell_type": "markdown",
   "metadata": {
    "_datascience": {}
   },
   "source": [
    "Because aggregation functions return a Series, we can use the column label selection we learned in the previous selection. Here we select the count of `zip_code` from `trips`."
   ]
  },
  {
   "cell_type": "code",
   "execution_count": 87,
   "metadata": {
    "_datascience": {},
    "collapsed": false
   },
   "outputs": [
    {
     "data": {
      "text/plain": [
       "10000"
      ]
     },
     "execution_count": 87,
     "metadata": {},
     "output_type": "execute_result"
    }
   ],
   "source": [
    "trips.count()['zip_code']"
   ]
  },
  {
   "cell_type": "markdown",
   "metadata": {
    "_datascience": {}
   },
   "source": [
    "We also have other useful functions including `sum`. We run `sum` in the cell below and see that it returns results for numeric columns only."
   ]
  },
  {
   "cell_type": "code",
   "execution_count": 88,
   "metadata": {
    "_datascience": {},
    "collapsed": false
   },
   "outputs": [
    {
     "data": {
      "text/plain": [
       "seq_id               7.884718e+09\n",
       "trip_id              8.853366e+09\n",
       "duration             1.122455e+07\n",
       "strt_statn           5.376430e+05\n",
       "end_statn            5.402170e+05\n",
       "birth_date           4.616413e+06\n",
       "duration_hours       3.117930e+03\n",
       "start_day_of_week    2.909900e+04\n",
       "dtype: float64"
      ]
     },
     "execution_count": 88,
     "metadata": {},
     "output_type": "execute_result"
    }
   ],
   "source": [
    "trips.sum()"
   ]
  },
  {
   "cell_type": "markdown",
   "metadata": {
    "_datascience": {}
   },
   "source": [
    "Summing id columns is meaningless, we can exclude columns by specifically specifying the columns we wish to aggregate using column label selection. Let's find the average trip duration using the `mean` method."
   ]
  },
  {
   "cell_type": "code",
   "execution_count": 89,
   "metadata": {
    "_datascience": {},
    "collapsed": false
   },
   "outputs": [
    {
     "data": {
      "text/plain": [
       "1122.4548"
      ]
     },
     "execution_count": 89,
     "metadata": {},
     "output_type": "execute_result"
    }
   ],
   "source": [
    "trips['duration'].mean()"
   ]
  },
  {
   "cell_type": "markdown",
   "metadata": {
    "_datascience": {}
   },
   "source": [
    "You can read about all the functions available [here](http://pandas.pydata.org/pandas-docs/stable/basics.html#descriptive-statistics).\n",
    "\n",
    "In addition to descriptive statistics such as `sum` and `mean`, pandas provides functions for counting frequencies and extracting unique values. To get value counts for a categorical column, use the `value_counts` method. Here we find the count of stations by municipality."
   ]
  },
  {
   "cell_type": "code",
   "execution_count": 90,
   "metadata": {
    "_datascience": {},
    "collapsed": false
   },
   "outputs": [
    {
     "data": {
      "text/plain": [
       "Boston        97\n",
       "Cambridge     28\n",
       "Somerville    12\n",
       "Brookline      5\n",
       "dtype: int64"
      ]
     },
     "execution_count": 90,
     "metadata": {},
     "output_type": "execute_result"
    }
   ],
   "source": [
    "stations.municipal.value_counts()"
   ]
  },
  {
   "cell_type": "markdown",
   "metadata": {
    "_datascience": {}
   },
   "source": [
    "To get all unique values we use `unique`."
   ]
  },
  {
   "cell_type": "code",
   "execution_count": 91,
   "metadata": {
    "_datascience": {},
    "collapsed": false
   },
   "outputs": [
    {
     "data": {
      "text/plain": [
       "array(['Somerville', 'Boston', 'Brookline', 'Cambridge'], dtype=object)"
      ]
     },
     "execution_count": 91,
     "metadata": {},
     "output_type": "execute_result"
    }
   ],
   "source": [
    "stations.municipal.unique()"
   ]
  },
  {
   "cell_type": "markdown",
   "metadata": {
    "_datascience": {}
   },
   "source": [
    "Finally, to get the number of unqiue values, we use `nunique`."
   ]
  },
  {
   "cell_type": "code",
   "execution_count": 92,
   "metadata": {
    "_datascience": {},
    "collapsed": false
   },
   "outputs": [
    {
     "data": {
      "text/plain": [
       "4"
      ]
     },
     "execution_count": 92,
     "metadata": {},
     "output_type": "execute_result"
    }
   ],
   "source": [
    "stations.municipal.nunique()"
   ]
  },
  {
   "cell_type": "markdown",
   "metadata": {
    "_datascience": {},
    "collapsed": true
   },
   "source": [
    "### Grouping\n",
    "\n",
    "In the previous section we applied functions to the contents of the entire DataFrame. In many cases, you'll want to apply these functions to groups of data. Think about writing a SQL query to find the average order size for a customer of an ecommerce company. You would probably write something like `select customer_id, avg(amount) from order group by 1`. In pandas, we can perform similar opertions using `group_by` objects.\n",
    "\n",
    "Previously, we found the average trip duration for all trips in the DataFrame. What if we wanted to see average trip duration by subscription type? Here's how we can do that using `group_by`."
   ]
  },
  {
   "cell_type": "code",
   "execution_count": 93,
   "metadata": {
    "_datascience": {},
    "collapsed": false
   },
   "outputs": [
    {
     "data": {
      "text/plain": [
       "subsc_type\n",
       "Casual        2190.538488\n",
       "Registered     695.041865\n",
       "Name: duration, dtype: float64"
      ]
     },
     "execution_count": 93,
     "metadata": {},
     "output_type": "execute_result"
    }
   ],
   "source": [
    "trips.groupby('subsc_type')['duration'].mean()"
   ]
  },
  {
   "cell_type": "markdown",
   "metadata": {
    "_datascience": {}
   },
   "source": [
    "The result of calling `mean` on the `group_by` is a series indexed by the grouping field. We can group on multiple fields which yields a multi-level index. Here we'll find median trip durations by starting station id and gender by passing in a list of fields to the `group_by` call."
   ]
  },
  {
   "cell_type": "code",
   "execution_count": 94,
   "metadata": {
    "_datascience": {},
    "collapsed": false
   },
   "outputs": [
    {
     "data": {
      "text/plain": [
       "strt_statn  gender\n",
       "3                     1197.5\n",
       "            Female     947.0\n",
       "            Male       660.0\n",
       "4                     1153.5\n",
       "            Female     431.0\n",
       "Name: duration, dtype: float64"
      ]
     },
     "execution_count": 94,
     "metadata": {},
     "output_type": "execute_result"
    }
   ],
   "source": [
    "trips.groupby(['strt_statn','gender'])['duration'].median().head()"
   ]
  },
  {
   "cell_type": "markdown",
   "metadata": {
    "_datascience": {}
   },
   "source": [
    "### Joining/Merging\n",
    "\n",
    "DataFrames can be [merged and joined](http://pandas.pydata.org/pandas-docs/stable/merging.html) using a SQL-style syntax. The `join` method will attempt to join two DataFrames by matching on their indexes. As in SQL, you can specify the type of join (inner, left, right).\n",
    "\n",
    "In the `trips` DataFrame we have a station id representing the station from which a trip started but we do not have the station's name. We can get station name from the `stations` DataFrame and combine the two with join.\n",
    "\n",
    "First, let's calculate the total number of trips by station id from the `trips` DataFrame."
   ]
  },
  {
   "cell_type": "code",
   "execution_count": 95,
   "metadata": {
    "_datascience": {},
    "collapsed": false
   },
   "outputs": [],
   "source": [
    "# Count of trip id's for each station\n",
    "trip_station_totals = trips.groupby('strt_statn')[['trip_id']].count()\n",
    "# rename column to something more descriptive\n",
    "trip_station_totals.columns = ['trip_count']"
   ]
  },
  {
   "cell_type": "markdown",
   "metadata": {
    "_datascience": {}
   },
   "source": [
    "Now if we examine the DataFrame we see that the index is `start_station_id` and we have a column called `trip_count` which contains the total number of trips originating from that station."
   ]
  },
  {
   "cell_type": "code",
   "execution_count": 96,
   "metadata": {
    "_datascience": {},
    "collapsed": false
   },
   "outputs": [
    {
     "data": {
      "text/html": [
       "<div style=\"max-height:1000px;max-width:1500px;overflow:auto;\">\n",
       "<table border=\"1\" class=\"dataframe\">\n",
       "  <thead>\n",
       "    <tr style=\"text-align: right;\">\n",
       "      <th></th>\n",
       "      <th>trip_count</th>\n",
       "    </tr>\n",
       "    <tr>\n",
       "      <th>strt_statn</th>\n",
       "      <th></th>\n",
       "    </tr>\n",
       "  </thead>\n",
       "  <tbody>\n",
       "    <tr>\n",
       "      <th>3</th>\n",
       "      <td>57</td>\n",
       "    </tr>\n",
       "    <tr>\n",
       "      <th>4</th>\n",
       "      <td>121</td>\n",
       "    </tr>\n",
       "    <tr>\n",
       "      <th>5</th>\n",
       "      <td>78</td>\n",
       "    </tr>\n",
       "    <tr>\n",
       "      <th>6</th>\n",
       "      <td>137</td>\n",
       "    </tr>\n",
       "    <tr>\n",
       "      <th>7</th>\n",
       "      <td>60</td>\n",
       "    </tr>\n",
       "  </tbody>\n",
       "</table>\n",
       "</div>"
      ],
      "text/plain": [
       "            trip_count\n",
       "strt_statn            \n",
       "3                   57\n",
       "4                  121\n",
       "5                   78\n",
       "6                  137\n",
       "7                   60"
      ]
     },
     "execution_count": 96,
     "metadata": {},
     "output_type": "execute_result"
    }
   ],
   "source": [
    "trip_station_totals.head()"
   ]
  },
  {
   "cell_type": "markdown",
   "metadata": {
    "_datascience": {}
   },
   "source": [
    "For the join to `stations`, we'll need to set an index on station id and select the station name column. The resulting DataFrame contains a single column of station names and is indexed by station id."
   ]
  },
  {
   "cell_type": "code",
   "execution_count": 97,
   "metadata": {
    "_datascience": {},
    "collapsed": false
   },
   "outputs": [
    {
     "data": {
      "text/html": [
       "<div style=\"max-height:1000px;max-width:1500px;overflow:auto;\">\n",
       "<table border=\"1\" class=\"dataframe\">\n",
       "  <thead>\n",
       "    <tr style=\"text-align: right;\">\n",
       "      <th></th>\n",
       "      <th>station</th>\n",
       "      <th>municipal</th>\n",
       "      <th>lat</th>\n",
       "      <th>lng</th>\n",
       "      <th>status</th>\n",
       "    </tr>\n",
       "    <tr>\n",
       "      <th>statn_id</th>\n",
       "      <th></th>\n",
       "      <th></th>\n",
       "      <th></th>\n",
       "      <th></th>\n",
       "      <th></th>\n",
       "    </tr>\n",
       "  </thead>\n",
       "  <tbody>\n",
       "    <tr>\n",
       "      <th>143</th>\n",
       "      <td>Somerville Hospital at Highland Ave / Crocker St</td>\n",
       "      <td>Somerville</td>\n",
       "      <td>42</td>\n",
       "      <td>-71</td>\n",
       "      <td>Existing</td>\n",
       "    </tr>\n",
       "    <tr>\n",
       "      <th>145</th>\n",
       "      <td>Summer St at Cutter St</td>\n",
       "      <td>Somerville</td>\n",
       "      <td>42</td>\n",
       "      <td>-71</td>\n",
       "      <td>Existing</td>\n",
       "    </tr>\n",
       "    <tr>\n",
       "      <th>7</th>\n",
       "      <td>Fan Pier</td>\n",
       "      <td>Boston</td>\n",
       "      <td>42</td>\n",
       "      <td>-71</td>\n",
       "      <td>Existing</td>\n",
       "    </tr>\n",
       "    <tr>\n",
       "      <th>12</th>\n",
       "      <td>Ruggles Station / Columbus Ave.</td>\n",
       "      <td>Boston</td>\n",
       "      <td>42</td>\n",
       "      <td>-71</td>\n",
       "      <td>Existing</td>\n",
       "    </tr>\n",
       "    <tr>\n",
       "      <th>14</th>\n",
       "      <td>HMS / HSPH - Ave. Louis Pasteur at Longwood Ave.</td>\n",
       "      <td>Boston</td>\n",
       "      <td>42</td>\n",
       "      <td>-71</td>\n",
       "      <td>Existing</td>\n",
       "    </tr>\n",
       "  </tbody>\n",
       "</table>\n",
       "</div>"
      ],
      "text/plain": [
       "                                                   station   municipal  lat  \\\n",
       "statn_id                                                                      \n",
       "143       Somerville Hospital at Highland Ave / Crocker St  Somerville   42   \n",
       "145                                 Summer St at Cutter St  Somerville   42   \n",
       "7                                                 Fan Pier      Boston   42   \n",
       "12                         Ruggles Station / Columbus Ave.      Boston   42   \n",
       "14        HMS / HSPH - Ave. Louis Pasteur at Longwood Ave.      Boston   42   \n",
       "\n",
       "          lng    status  \n",
       "statn_id                 \n",
       "143       -71  Existing  \n",
       "145       -71  Existing  \n",
       "7         -71  Existing  \n",
       "12        -71  Existing  \n",
       "14        -71  Existing  "
      ]
     },
     "execution_count": 97,
     "metadata": {},
     "output_type": "execute_result"
    }
   ],
   "source": [
    "# Set index and select column\n",
    "station_names = stations\n",
    "# Turn the index into a numeric type for matching\n",
    "station_names.index = station_names.index.astype('int')\n",
    "station_names.head()"
   ]
  },
  {
   "cell_type": "markdown",
   "metadata": {
    "_datascience": {}
   },
   "source": [
    "Now that we have two DataFrames with matching indexes, we can perform the join using the `join` method. By default it will perform an inner join."
   ]
  },
  {
   "cell_type": "code",
   "execution_count": 98,
   "metadata": {
    "_datascience": {},
    "collapsed": false
   },
   "outputs": [
    {
     "data": {
      "text/html": [
       "<div style=\"max-height:1000px;max-width:1500px;overflow:auto;\">\n",
       "<table border=\"1\" class=\"dataframe\">\n",
       "  <thead>\n",
       "    <tr style=\"text-align: right;\">\n",
       "      <th></th>\n",
       "      <th>trip_count</th>\n",
       "      <th>station</th>\n",
       "      <th>municipal</th>\n",
       "      <th>lat</th>\n",
       "      <th>lng</th>\n",
       "      <th>status</th>\n",
       "    </tr>\n",
       "    <tr>\n",
       "      <th>strt_statn</th>\n",
       "      <th></th>\n",
       "      <th></th>\n",
       "      <th></th>\n",
       "      <th></th>\n",
       "      <th></th>\n",
       "      <th></th>\n",
       "    </tr>\n",
       "  </thead>\n",
       "  <tbody>\n",
       "    <tr>\n",
       "      <th>3</th>\n",
       "      <td>57</td>\n",
       "      <td>Colleges of the Fenway</td>\n",
       "      <td>Boston</td>\n",
       "      <td>42</td>\n",
       "      <td>-71</td>\n",
       "      <td>Existing</td>\n",
       "    </tr>\n",
       "    <tr>\n",
       "      <th>4</th>\n",
       "      <td>121</td>\n",
       "      <td>Tremont St. at Berkeley St.</td>\n",
       "      <td>Boston</td>\n",
       "      <td>42</td>\n",
       "      <td>-71</td>\n",
       "      <td>Existing</td>\n",
       "    </tr>\n",
       "    <tr>\n",
       "      <th>5</th>\n",
       "      <td>78</td>\n",
       "      <td>Northeastern U / North Parking Lot</td>\n",
       "      <td>Boston</td>\n",
       "      <td>42</td>\n",
       "      <td>-71</td>\n",
       "      <td>Existing</td>\n",
       "    </tr>\n",
       "    <tr>\n",
       "      <th>6</th>\n",
       "      <td>137</td>\n",
       "      <td>Cambridge St. at Joy St.</td>\n",
       "      <td>Boston</td>\n",
       "      <td>42</td>\n",
       "      <td>-71</td>\n",
       "      <td>Existing</td>\n",
       "    </tr>\n",
       "    <tr>\n",
       "      <th>7</th>\n",
       "      <td>60</td>\n",
       "      <td>Fan Pier</td>\n",
       "      <td>Boston</td>\n",
       "      <td>42</td>\n",
       "      <td>-71</td>\n",
       "      <td>Existing</td>\n",
       "    </tr>\n",
       "  </tbody>\n",
       "</table>\n",
       "</div>"
      ],
      "text/plain": [
       "            trip_count                             station municipal  lat  \\\n",
       "strt_statn                                                                  \n",
       "3                   57              Colleges of the Fenway    Boston   42   \n",
       "4                  121         Tremont St. at Berkeley St.    Boston   42   \n",
       "5                   78  Northeastern U / North Parking Lot    Boston   42   \n",
       "6                  137            Cambridge St. at Joy St.    Boston   42   \n",
       "7                   60                            Fan Pier    Boston   42   \n",
       "\n",
       "            lng    status  \n",
       "strt_statn                 \n",
       "3           -71  Existing  \n",
       "4           -71  Existing  \n",
       "5           -71  Existing  \n",
       "6           -71  Existing  \n",
       "7           -71  Existing  "
      ]
     },
     "execution_count": 98,
     "metadata": {},
     "output_type": "execute_result"
    }
   ],
   "source": [
    "# Perform the join\n",
    "trip_totals_w_station_name = trip_station_totals.join(station_names)\n",
    "# Look at the results\n",
    "trip_totals_w_station_name.head()"
   ]
  },
  {
   "cell_type": "markdown",
   "metadata": {
    "_datascience": {}
   },
   "source": [
    "The resulting DataFrame is indexed by station id and contains the columns `trip_count` and `station` from the two DataFrames we joined."
   ]
  },
  {
   "cell_type": "code",
   "execution_count": null,
   "metadata": {
    "_datascience": {},
    "code_folding": [
     0
    ],
    "collapsed": true
   },
   "outputs": [],
   "source": []
  }
 ],
 "metadata": {
  "_datascience": {},
  "kernelspec": {
   "display_name": "Python 2",
   "language": "python",
   "name": "python2"
  },
  "language_info": {
   "codemirror_mode": {
    "name": "ipython",
    "version": 2
   },
   "file_extension": ".py",
   "mimetype": "text/x-python",
   "name": "python",
   "nbconvert_exporter": "python",
   "pygments_lexer": "ipython2",
   "version": "2.7.6"
  }
 },
 "nbformat": 4,
 "nbformat_minor": 0
}
